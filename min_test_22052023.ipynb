{
  "nbformat": 4,
  "nbformat_minor": 0,
  "metadata": {
    "colab": {
      "provenance": [],
      "authorship_tag": "ABX9TyMlld2YSDi/343A5EORSDti",
      "include_colab_link": true
    },
    "kernelspec": {
      "name": "python3",
      "display_name": "Python 3"
    },
    "language_info": {
      "name": "python"
    }
  },
  "cells": [
    {
      "cell_type": "markdown",
      "metadata": {
        "id": "view-in-github",
        "colab_type": "text"
      },
      "source": [
        "<a href=\"https://colab.research.google.com/github/240148aoy/pythontest/blob/main/min_test_22052023.ipynb\" target=\"_parent\"><img src=\"https://colab.research.google.com/assets/colab-badge.svg\" alt=\"Open In Colab\"/></a>"
      ]
    },
    {
      "cell_type": "code",
      "execution_count": 3,
      "metadata": {
        "colab": {
          "base_uri": "https://localhost:8080/"
        },
        "id": "lciWf4nCuVDi",
        "outputId": "91d83e98-bcad-4ca1-ab83-4fb2fbe4e6ca"
      },
      "outputs": [
        {
          "output_type": "stream",
          "name": "stdout",
          "text": [
            "จำนวนที่1:.25\n",
            "จำนวนที่2:.15\n",
            "จำนวนที่3:.10\n",
            "ค่าน้อยสุดคือ 10\n"
          ]
        }
      ],
      "source": [
        "a=int(input(\"จำนวนที่1:.\"))\n",
        "b=int(input(\"จำนวนที่2:.\"))\n",
        "c=int(input(\"จำนวนที่3:.\"))\n",
        "m=a\n",
        "if(b<m):\n",
        "    m=b\n",
        "if(c<m):\n",
        "    m=c\n",
        "print(\"ค่าน้อยสุดคือ\",m)"
      ]
    }
  ]
}